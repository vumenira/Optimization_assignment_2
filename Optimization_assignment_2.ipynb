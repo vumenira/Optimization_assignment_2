{
 "cells": [
  {
   "metadata": {},
   "cell_type": "markdown",
   "source": "B. Onyshchenko, KSE, Optimization, Assignment 2",
   "id": "4c028f2161a8c2a4"
  },
  {
   "metadata": {
    "ExecuteTime": {
     "end_time": "2025-10-26T07:12:26.327654Z",
     "start_time": "2025-10-26T07:12:21.453168Z"
    }
   },
   "cell_type": "code",
   "source": [
    "import math\n",
    "import pandas as pd"
   ],
   "id": "fe9fc5956642971b",
   "outputs": [],
   "execution_count": 22
  },
  {
   "metadata": {},
   "cell_type": "markdown",
   "source": [
    "### Ex 1\n",
    "#### Bisection method"
   ],
   "id": "13817fd40bea6708"
  },
  {
   "cell_type": "code",
   "id": "initial_id",
   "metadata": {
    "collapsed": true,
    "ExecuteTime": {
     "end_time": "2025-10-26T07:14:23.717157Z",
     "start_time": "2025-10-26T07:14:23.710536Z"
    }
   },
   "source": [
    "def bisection_method (a0, b0, fx, prec):\n",
    "\n",
    "    if a0 > b0 or fx(a0) * fx(b0) >= 0:\n",
    "        return None\n",
    "    i = 0\n",
    "    ai = a0\n",
    "    bi = b0\n",
    "    while bi-ai > prec:\n",
    "        ci = (ai + bi) / 2\n",
    "        if fx(ci) == 0:\n",
    "            return ci, i\n",
    "        elif fx(ci) * fx(ai) > 0:\n",
    "            ai = ci\n",
    "        else:\n",
    "            bi = ci\n",
    "        i += 1\n",
    "    return ai, bi, i"
   ],
   "outputs": [],
   "execution_count": 23
  },
  {
   "metadata": {
    "ExecuteTime": {
     "end_time": "2025-10-26T07:15:00.585051Z",
     "start_time": "2025-10-26T07:15:00.568189Z"
    }
   },
   "cell_type": "code",
   "source": [
    "def func_1_1 (x):\n",
    "    return math.exp(x) - 4*x\n",
    "\n",
    "print(bisection_method(-1,1,func_1_1, 1/10**12))"
   ],
   "id": "1b47dd2196c3db8d",
   "outputs": [
    {
     "data": {
      "text/plain": [
       "    Iteration        ai        bi\n",
       "36         36  0.357403  0.357403\n",
       "37         37  0.357403  0.357403\n",
       "38         38  0.357403  0.357403\n",
       "39         39  0.357403  0.357403\n",
       "40         40  0.357403  0.357403"
      ],
      "text/html": [
       "<div>\n",
       "<style scoped>\n",
       "    .dataframe tbody tr th:only-of-type {\n",
       "        vertical-align: middle;\n",
       "    }\n",
       "\n",
       "    .dataframe tbody tr th {\n",
       "        vertical-align: top;\n",
       "    }\n",
       "\n",
       "    .dataframe thead th {\n",
       "        text-align: right;\n",
       "    }\n",
       "</style>\n",
       "<table border=\"1\" class=\"dataframe\">\n",
       "  <thead>\n",
       "    <tr style=\"text-align: right;\">\n",
       "      <th></th>\n",
       "      <th>Iteration</th>\n",
       "      <th>ai</th>\n",
       "      <th>bi</th>\n",
       "    </tr>\n",
       "  </thead>\n",
       "  <tbody>\n",
       "    <tr>\n",
       "      <th>36</th>\n",
       "      <td>36</td>\n",
       "      <td>0.357403</td>\n",
       "      <td>0.357403</td>\n",
       "    </tr>\n",
       "    <tr>\n",
       "      <th>37</th>\n",
       "      <td>37</td>\n",
       "      <td>0.357403</td>\n",
       "      <td>0.357403</td>\n",
       "    </tr>\n",
       "    <tr>\n",
       "      <th>38</th>\n",
       "      <td>38</td>\n",
       "      <td>0.357403</td>\n",
       "      <td>0.357403</td>\n",
       "    </tr>\n",
       "    <tr>\n",
       "      <th>39</th>\n",
       "      <td>39</td>\n",
       "      <td>0.357403</td>\n",
       "      <td>0.357403</td>\n",
       "    </tr>\n",
       "    <tr>\n",
       "      <th>40</th>\n",
       "      <td>40</td>\n",
       "      <td>0.357403</td>\n",
       "      <td>0.357403</td>\n",
       "    </tr>\n",
       "  </tbody>\n",
       "</table>\n",
       "</div>"
      ]
     },
     "execution_count": 26,
     "metadata": {},
     "output_type": "execute_result"
    }
   ],
   "execution_count": 26
  },
  {
   "metadata": {
    "ExecuteTime": {
     "end_time": "2025-10-25T16:48:43.236075Z",
     "start_time": "2025-10-25T16:48:43.232265Z"
    }
   },
   "cell_type": "code",
   "source": [
    "def func_1_2 (x):\n",
    "    return -0.9*x**2 + 1.7*x + 2.5\n",
    "print(bisection_method(2.8,3,func_1_2, 1/10**8))"
   ],
   "id": "7b2c19857eaeb7e3",
   "outputs": [
    {
     "name": "stdout",
     "output_type": "stream",
     "text": [
      "(2.8601043999195097, 2.860104405879974, 25)\n"
     ]
    }
   ],
   "execution_count": 9
  },
  {
   "metadata": {
    "ExecuteTime": {
     "end_time": "2025-10-25T23:01:40.971995Z",
     "start_time": "2025-10-25T23:01:40.940257Z"
    }
   },
   "cell_type": "code",
   "source": [
    "def func_1_3 (x):\n",
    "    return 0.7*x**3 - 4*x**2 + 6.2*x - 2\n",
    "print(bisection_method(1.5,2.5,func_1_3, 1/10**10))"
   ],
   "id": "4ceabf6f7c06ad59",
   "outputs": [
    {
     "ename": "NameError",
     "evalue": "name 'bisection_method' is not defined",
     "output_type": "error",
     "traceback": [
      "\u001B[31m---------------------------------------------------------------------------\u001B[39m",
      "\u001B[31mNameError\u001B[39m                                 Traceback (most recent call last)",
      "\u001B[36mCell\u001B[39m\u001B[36m \u001B[39m\u001B[32mIn[3]\u001B[39m\u001B[32m, line 3\u001B[39m\n\u001B[32m      1\u001B[39m \u001B[38;5;28;01mdef\u001B[39;00m\u001B[38;5;250m \u001B[39m\u001B[34mfunc_1_3\u001B[39m (x):\n\u001B[32m      2\u001B[39m     \u001B[38;5;28;01mreturn\u001B[39;00m \u001B[32m0.7\u001B[39m*x**\u001B[32m3\u001B[39m - \u001B[32m4\u001B[39m*x**\u001B[32m2\u001B[39m + \u001B[32m6.2\u001B[39m*x - \u001B[32m2\u001B[39m\n\u001B[32m----> \u001B[39m\u001B[32m3\u001B[39m \u001B[38;5;28mprint\u001B[39m(\u001B[43mbisection_method\u001B[49m(\u001B[32m1.5\u001B[39m,\u001B[32m2.5\u001B[39m,func_1_3, \u001B[32m1\u001B[39m/\u001B[32m10\u001B[39m**\u001B[32m10\u001B[39m))\n",
      "\u001B[31mNameError\u001B[39m: name 'bisection_method' is not defined"
     ]
    }
   ],
   "execution_count": 3
  },
  {
   "metadata": {},
   "cell_type": "markdown",
   "source": "#### Regula-falsy method\n",
   "id": "cd2b876c81943b8f"
  },
  {
   "metadata": {
    "ExecuteTime": {
     "end_time": "2025-10-25T23:00:44.059315Z",
     "start_time": "2025-10-25T23:00:44.052817Z"
    }
   },
   "cell_type": "code",
   "source": [
    "def regula_falsy (a0, b0, fx, prec):\n",
    "    if a0 > b0 or fx(a0) * fx(b0) >= 0:\n",
    "        return None\n",
    "    i = 0\n",
    "    ai = a0\n",
    "    bi = b0\n",
    "    while bi-ai > prec:\n",
    "        ci = (ai*fx(bi) - bi*fx(ai)) / (fx(bi) - fx(ai))\n",
    "        if fx(ci) == 0:\n",
    "            return ci, i\n",
    "        elif fx(ci) * fx(ai) > 0:\n",
    "            ai = ci\n",
    "        else:\n",
    "            bi = ci\n",
    "        i += 1\n",
    "    return ai, bi, i"
   ],
   "id": "4b6d0ce08f42c9bb",
   "outputs": [],
   "execution_count": 1
  },
  {
   "metadata": {
    "ExecuteTime": {
     "end_time": "2025-10-25T16:48:28.088654Z",
     "start_time": "2025-10-25T16:48:28.084288Z"
    }
   },
   "cell_type": "code",
   "source": "print(regula_falsy(-1, 1, func_1_1, 1 / 10 ** 12))",
   "id": "70233458e39ad9fe",
   "outputs": [
    {
     "name": "stdout",
     "output_type": "stream",
     "text": [
      "(0.3574029561813889, 24)\n"
     ]
    }
   ],
   "execution_count": 4
  },
  {
   "metadata": {
    "ExecuteTime": {
     "end_time": "2025-10-25T16:48:29.821224Z",
     "start_time": "2025-10-25T16:48:29.815913Z"
    }
   },
   "cell_type": "code",
   "source": "print(regula_falsy(2.8, 3, func_1_2, 1 / 10 ** 8))",
   "id": "1b30301e426719e3",
   "outputs": [
    {
     "name": "stdout",
     "output_type": "stream",
     "text": [
      "(2.860104405507407, 2.8601044055074074, 11)\n"
     ]
    }
   ],
   "execution_count": 5
  },
  {
   "metadata": {
    "ExecuteTime": {
     "end_time": "2025-10-25T16:48:31.436092Z",
     "start_time": "2025-10-25T16:48:31.430543Z"
    }
   },
   "cell_type": "code",
   "source": "print(regula_falsy(1.5, 2.5, func_1_3, 1 / 10 ** 10))",
   "id": "7e7af889b0ab0363",
   "outputs": [
    {
     "name": "stdout",
     "output_type": "stream",
     "text": [
      "(1.9999999999999991, 2.000000000000869, 6)\n"
     ]
    }
   ],
   "execution_count": 6
  },
  {
   "metadata": {},
   "cell_type": "markdown",
   "source": "Знаходження всіх коренів",
   "id": "e5a405bcc107c2e5"
  },
  {
   "metadata": {
    "ExecuteTime": {
     "end_time": "2025-10-25T23:03:30.153739Z",
     "start_time": "2025-10-25T23:03:30.148999Z"
    }
   },
   "cell_type": "code",
   "source": "print(regula_falsy(0.1, 1.5, func_1_3, 1 / 10 ** 10))",
   "id": "de6892120a116e7b",
   "outputs": [
    {
     "name": "stdout",
     "output_type": "stream",
     "text": [
      "(0.4357322327048286, 28)\n"
     ]
    }
   ],
   "execution_count": 5
  },
  {
   "metadata": {
    "ExecuteTime": {
     "end_time": "2025-10-25T23:04:03.323268Z",
     "start_time": "2025-10-25T23:04:03.318076Z"
    }
   },
   "cell_type": "code",
   "source": "print(regula_falsy(1.5, 2.5, func_1_3, 1 / 10 ** 10))",
   "id": "183745eb1a20b13a",
   "outputs": [
    {
     "name": "stdout",
     "output_type": "stream",
     "text": [
      "(1.9999999999999991, 2.000000000000869, 6)\n"
     ]
    }
   ],
   "execution_count": 6
  },
  {
   "metadata": {
    "ExecuteTime": {
     "end_time": "2025-10-25T23:04:05.175493Z",
     "start_time": "2025-10-25T23:04:05.170764Z"
    }
   },
   "cell_type": "code",
   "source": "print(regula_falsy(2.5, 3.8, func_1_3, 1 / 10 ** 10))",
   "id": "4192e6b92ed4b013",
   "outputs": [
    {
     "name": "stdout",
     "output_type": "stream",
     "text": [
      "(3.278553481580882, 3.2785534815808846, 38)\n"
     ]
    }
   ],
   "execution_count": 7
  },
  {
   "metadata": {},
   "cell_type": "markdown",
   "source": "#### Regula-falsy modified method",
   "id": "bbb123abe01d8f4a"
  },
  {
   "metadata": {
    "ExecuteTime": {
     "end_time": "2025-10-25T17:39:48.976619Z",
     "start_time": "2025-10-25T17:39:48.969842Z"
    }
   },
   "cell_type": "code",
   "source": [
    "def regula_falsy_mod (a0, b0, fx, prec):\n",
    "    if a0 > b0 or fx(a0) * fx(b0) >= 0:\n",
    "        return None\n",
    "    i = 0\n",
    "    ai = a0\n",
    "    bi = b0\n",
    "\n",
    "    pre, prepre = 0, 0\n",
    "\n",
    "    while bi-ai > prec:\n",
    "        if pre == 1 and prepre == 1:\n",
    "            ci = (ai*fx(bi)/2 - bi*fx(ai)) / (fx(bi)/2 - fx(ai))\n",
    "        elif pre == -1 and prepre == -1:\n",
    "            ci = (ai*fx(bi) - bi*fx(ai)/2) / (fx(bi) - fx(ai)/2)\n",
    "        else:\n",
    "            ci = (ai*fx(bi) - bi*fx(ai)) / (fx(bi) - fx(ai))\n",
    "        if fx(ci) == 0:\n",
    "            return ci, i\n",
    "        elif fx(ci) * fx(ai) > 0:\n",
    "            ai = ci\n",
    "            prepre = pre\n",
    "            pre = 1\n",
    "        else:\n",
    "            bi = ci\n",
    "            prepre = pre\n",
    "            pre = -1\n",
    "        i += 1\n",
    "    return ai, bi, i"
   ],
   "id": "4182f007d2dac0f3",
   "outputs": [],
   "execution_count": 16
  },
  {
   "metadata": {
    "ExecuteTime": {
     "end_time": "2025-10-25T17:39:51.369485Z",
     "start_time": "2025-10-25T17:39:51.365102Z"
    }
   },
   "cell_type": "code",
   "source": "print(regula_falsy_mod(-1, 1, func_1_1, 1 / 10 ** 12))",
   "id": "7540471a7c878217",
   "outputs": [
    {
     "name": "stdout",
     "output_type": "stream",
     "text": [
      "(0.3574029561813888, 0.35740295618138895, 9)\n"
     ]
    }
   ],
   "execution_count": 17
  },
  {
   "metadata": {
    "ExecuteTime": {
     "end_time": "2025-10-25T17:39:52.607284Z",
     "start_time": "2025-10-25T17:39:52.602981Z"
    }
   },
   "cell_type": "code",
   "source": "print(regula_falsy_mod(2.8, 3, func_1_2, 1 / 10 ** 8))",
   "id": "8f440df0428654cc",
   "outputs": [
    {
     "name": "stdout",
     "output_type": "stream",
     "text": [
      "(2.860104405507382, 2.860104405507433, 6)\n"
     ]
    }
   ],
   "execution_count": 18
  },
  {
   "metadata": {
    "ExecuteTime": {
     "end_time": "2025-10-25T17:39:53.850909Z",
     "start_time": "2025-10-25T17:39:53.845854Z"
    }
   },
   "cell_type": "code",
   "source": "print(regula_falsy_mod(1.5, 2.5, func_1_3, 1 / 10 ** 10))",
   "id": "d3e8023f6a841b6c",
   "outputs": [
    {
     "name": "stdout",
     "output_type": "stream",
     "text": [
      "(1.9999999999999996, 5)\n"
     ]
    }
   ],
   "execution_count": 19
  },
  {
   "metadata": {},
   "cell_type": "markdown",
   "source": [
    "### Ex 2\n",
    "#### Fixed point method"
   ],
   "id": "663665130007bdbc"
  },
  {
   "metadata": {
    "ExecuteTime": {
     "end_time": "2025-10-25T23:13:37.549685Z",
     "start_time": "2025-10-25T23:13:37.543748Z"
    }
   },
   "cell_type": "code",
   "source": [
    "def fixed_point_method (x0, fx, prec, alpha):\n",
    "    i = 0\n",
    "    def f_small (x):\n",
    "        return x - alpha * fx(x)\n",
    "    xi = f_small(x0)\n",
    "    while abs(xi - x0) > prec:\n",
    "        x0 = xi\n",
    "        i += 1\n",
    "        xi = f_small(xi)\n",
    "    return xi, i\n"
   ],
   "id": "cdde8b6e6b9b0ad1",
   "outputs": [],
   "execution_count": 9
  },
  {
   "metadata": {
    "ExecuteTime": {
     "end_time": "2025-10-25T23:14:54.806245Z",
     "start_time": "2025-10-25T23:14:54.801369Z"
    }
   },
   "cell_type": "code",
   "source": [
    "def func_2_1 (x):\n",
    "    return x**3 + x - 1\n",
    "\n",
    "print(fixed_point_method(1,func_2_1, 1/10**12, 0.1))\n",
    "print(fixed_point_method(1,func_2_1, 1/10**12, 0.2))\n",
    "print(fixed_point_method(1,func_2_1, 1/10**12, 0.5))"
   ],
   "id": "f50c9aa04eb06976",
   "outputs": [
    {
     "name": "stdout",
     "output_type": "stream",
     "text": [
      "(0.6823278038305656, 91)\n",
      "(0.6823278038288745, 39)\n",
      "(0.6823278038278663, 16)\n"
     ]
    }
   ],
   "execution_count": 19
  },
  {
   "metadata": {
    "ExecuteTime": {
     "end_time": "2025-10-25T23:15:19.035944Z",
     "start_time": "2025-10-25T23:15:19.029173Z"
    }
   },
   "cell_type": "code",
   "source": [
    "def func_2_2 (x):\n",
    "    return math.cos(x % (2 * math.pi)) - x\n",
    "\n",
    "print(fixed_point_method(1,func_2_2, 1/10**10, -1))\n",
    "print(fixed_point_method(1,func_2_2, 1/10**10, -0.5))\n",
    "print(fixed_point_method(1,func_2_2, 1/10**10, -0.1))"
   ],
   "id": "ac3ae732a1b499ab",
   "outputs": [
    {
     "name": "stdout",
     "output_type": "stream",
     "text": [
      "(0.7390851332451103, 57)\n",
      "(0.7390851332257888, 12)\n",
      "(0.7390851336504459, 109)\n"
     ]
    }
   ],
   "execution_count": 20
  },
  {
   "metadata": {
    "ExecuteTime": {
     "end_time": "2025-10-25T23:15:38.424608Z",
     "start_time": "2025-10-25T23:15:38.417366Z"
    }
   },
   "cell_type": "code",
   "source": [
    "def func_2_3 (x):\n",
    "    return math.exp(x) - 2*x - 3\n",
    "\n",
    "print(fixed_point_method(1, func_2_3, 1/10**8, -1))\n",
    "print(fixed_point_method(1, func_2_3, 1/10**8, -0.5))\n",
    "print(fixed_point_method(1, func_2_3, 1/10**8, -0.1))"
   ],
   "id": "b7476733357caa9c",
   "outputs": [
    {
     "name": "stdout",
     "output_type": "stream",
     "text": [
      "(-1.3733745413548304, 58)\n",
      "(-1.3733745449599783, 11)\n",
      "(-1.373374500197945, 94)\n"
     ]
    }
   ],
   "execution_count": 21
  },
  {
   "metadata": {},
   "cell_type": "markdown",
   "source": [
    "### Ex 3\n",
    "#### Golden search method"
   ],
   "id": "319cddb1c69fac2f"
  },
  {
   "metadata": {
    "ExecuteTime": {
     "end_time": "2025-10-25T21:04:46.114185Z",
     "start_time": "2025-10-25T21:04:46.106464Z"
    }
   },
   "cell_type": "code",
   "source": [
    "def golden_search_method (a0, b0, fx, prec):\n",
    "    if a0 > b0:\n",
    "        return None\n",
    "    i = 0\n",
    "    ai = a0\n",
    "    bi = b0\n",
    "    x1 = ai + (bi - ai)*(1-0.6180339887)\n",
    "    x2 = ai + (bi - ai)*0.6180339887\n",
    "    while bi-ai > prec:\n",
    "        if fx(x1) < fx(x2):\n",
    "            bi = x2\n",
    "            x2 = x1\n",
    "            x1 = ai + (bi - ai)*(1-0.6180339887)\n",
    "        else:\n",
    "            ai = x1\n",
    "            x1 = x2\n",
    "            x2 = ai + (bi - ai)*0.6180339887\n",
    "        i += 1\n",
    "    return ai, bi, i"
   ],
   "id": "37b641b3026a61af",
   "outputs": [],
   "execution_count": 6
  },
  {
   "metadata": {
    "ExecuteTime": {
     "end_time": "2025-10-25T21:04:49.895189Z",
     "start_time": "2025-10-25T21:04:49.889846Z"
    }
   },
   "cell_type": "code",
   "source": [
    "def func_3_1(x):\n",
    "    term = x - 1.7\n",
    "    return term**4 + term**2 + 0.5\n",
    "\n",
    "\n",
    "print(golden_search_method(0, 4, func_3_1, 10**-5))"
   ],
   "id": "8c9e3902fc61e397",
   "outputs": [
    {
     "name": "stdout",
     "output_type": "stream",
     "text": [
      "(1.6999958225140366, 1.7000049299027324, 27)\n"
     ]
    }
   ],
   "execution_count": 8
  },
  {
   "metadata": {
    "ExecuteTime": {
     "end_time": "2025-10-25T21:04:52.100507Z",
     "start_time": "2025-10-25T21:04:52.094179Z"
    }
   },
   "cell_type": "code",
   "source": [
    "def func_3_2(x):\n",
    "    term = x - 2\n",
    "    return math.exp(0.5 * term) + term**6 + 0.1 * term**2\n",
    "\n",
    "print(golden_search_method(-1, 5, func_3_2, 10**-6))"
   ],
   "id": "3ac42d0a88f0a54e",
   "outputs": [
    {
     "name": "stdout",
     "output_type": "stream",
     "text": [
      "(1.4606159502163256, 1.4606167115172501, 33)\n"
     ]
    }
   ],
   "execution_count": 9
  },
  {
   "metadata": {},
   "cell_type": "markdown",
   "source": "#### Fibonacci method\n",
   "id": "d581346af9023dbc"
  },
  {
   "metadata": {
    "ExecuteTime": {
     "end_time": "2025-10-25T21:49:18.015453Z",
     "start_time": "2025-10-25T21:49:18.008888Z"
    }
   },
   "cell_type": "code",
   "source": [
    "def fibonacci_method (a0, b0, fx, prec):\n",
    "    if a0 > b0:\n",
    "        return None\n",
    "    R = (b0-a0)/prec\n",
    "    Fi = [1,1]\n",
    "\n",
    "    while R > Fi[-1]:\n",
    "        Fi.append(Fi[-1] + Fi[-2])\n",
    "\n",
    "    ai = a0\n",
    "    bi = b0\n",
    "    x1 = a0 + (Fi[-3] / Fi[-1]) * (b0-a0)\n",
    "    x2 = a0 + (Fi[-2] / Fi[-1]) * (b0-a0)\n",
    "    i = 0\n",
    "    while bi-ai > prec:\n",
    "        if fx(x1) < fx(x2):\n",
    "            bi = x2\n",
    "            x2 = x1\n",
    "            x1 = ai + (bi - x2)\n",
    "        else:\n",
    "            ai = x1\n",
    "            x1 = x2\n",
    "            x2 = bi - (x1 - ai)\n",
    "        i += 1\n",
    "    return ai, bi, i"
   ],
   "id": "3397f35538b7e712",
   "outputs": [],
   "execution_count": 13
  },
  {
   "metadata": {
    "ExecuteTime": {
     "end_time": "2025-10-25T21:49:20.338846Z",
     "start_time": "2025-10-25T21:49:20.334383Z"
    }
   },
   "cell_type": "code",
   "source": "print(fibonacci_method(0, 4, func_3_1, 10 ** -5))",
   "id": "84fd2b6e48292d04",
   "outputs": [
    {
     "name": "stdout",
     "output_type": "stream",
     "text": [
      "(1.6999974719417426, 1.7000052505786933, 27)\n"
     ]
    }
   ],
   "execution_count": 14
  },
  {
   "metadata": {
    "ExecuteTime": {
     "end_time": "2025-10-25T21:49:22.470207Z",
     "start_time": "2025-10-25T21:49:22.464735Z"
    }
   },
   "cell_type": "code",
   "source": "print(fibonacci_method(-1, 5, func_3_2, 10 ** -6))",
   "id": "d83b03734815a17e",
   "outputs": [
    {
     "name": "stdout",
     "output_type": "stream",
     "text": [
      "(1.460615347205362, 1.46061599696354, 33)\n"
     ]
    }
   ],
   "execution_count": 15
  }
 ],
 "metadata": {
  "kernelspec": {
   "display_name": "Python 3",
   "language": "python",
   "name": "python3"
  },
  "language_info": {
   "codemirror_mode": {
    "name": "ipython",
    "version": 2
   },
   "file_extension": ".py",
   "mimetype": "text/x-python",
   "name": "python",
   "nbconvert_exporter": "python",
   "pygments_lexer": "ipython2",
   "version": "2.7.6"
  }
 },
 "nbformat": 4,
 "nbformat_minor": 5
}
