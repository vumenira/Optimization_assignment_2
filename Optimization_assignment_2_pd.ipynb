{
 "cells": [
  {
   "metadata": {},
   "cell_type": "markdown",
   "source": "B. Onyshchenko, KSE, Optimization, Assignment 2",
   "id": "4c028f2161a8c2a4"
  },
  {
   "metadata": {
    "ExecuteTime": {
     "end_time": "2025-10-26T07:16:24.400641Z",
     "start_time": "2025-10-26T07:16:23.144199Z"
    }
   },
   "cell_type": "code",
   "source": [
    "import math\n",
    "import pandas as pd"
   ],
   "id": "fe9fc5956642971b",
   "outputs": [],
   "execution_count": 2
  },
  {
   "metadata": {},
   "cell_type": "markdown",
   "source": [
    "### Ex 1\n",
    "#### Bisection method"
   ],
   "id": "13817fd40bea6708"
  },
  {
   "cell_type": "code",
   "id": "initial_id",
   "metadata": {
    "collapsed": true,
    "ExecuteTime": {
     "end_time": "2025-10-26T07:21:57.348954Z",
     "start_time": "2025-10-26T07:21:57.342429Z"
    }
   },
   "source": [
    "def bisection_method (a0, b0, fx, prec):\n",
    "    log_data = []\n",
    "    if a0 > b0 or fx(a0) * fx(b0) >= 0:\n",
    "        return pd.DataFrame(log_data, columns=['Iteration', 'ai', 'bi'])\n",
    "    i = 0\n",
    "    ai = a0\n",
    "    bi = b0\n",
    "    while bi-ai > prec:\n",
    "        log_data.append([i, ai, bi])\n",
    "        ci = (ai + bi) / 2\n",
    "        if fx(ci) == 0:\n",
    "            log_data.append([i+1, ci, ci])\n",
    "            return pd.DataFrame(log_data, columns=['Iteration', 'ai', 'bi'])\n",
    "        elif fx(ci) * fx(ai) > 0:\n",
    "            ai = ci\n",
    "        else:\n",
    "            bi = ci\n",
    "        i += 1\n",
    "    return pd.DataFrame(log_data, columns=['Iteration', 'ai', 'bi'])"
   ],
   "outputs": [],
   "execution_count": 21
  },
  {
   "metadata": {
    "ExecuteTime": {
     "end_time": "2025-10-26T07:19:16.210071Z",
     "start_time": "2025-10-26T07:19:16.198939Z"
    }
   },
   "cell_type": "code",
   "source": [
    "def func_1_1 (x):\n",
    "    return math.exp(x) - 4*x\n",
    "\n",
    "bisection_method(-1,1,func_1_1, 1/10**12)[-5:]"
   ],
   "id": "1b47dd2196c3db8d",
   "outputs": [
    {
     "data": {
      "text/plain": [
       "    Iteration        ai        bi\n",
       "36         36  0.357403  0.357403\n",
       "37         37  0.357403  0.357403\n",
       "38         38  0.357403  0.357403\n",
       "39         39  0.357403  0.357403\n",
       "40         40  0.357403  0.357403"
      ],
      "text/html": [
       "<div>\n",
       "<style scoped>\n",
       "    .dataframe tbody tr th:only-of-type {\n",
       "        vertical-align: middle;\n",
       "    }\n",
       "\n",
       "    .dataframe tbody tr th {\n",
       "        vertical-align: top;\n",
       "    }\n",
       "\n",
       "    .dataframe thead th {\n",
       "        text-align: right;\n",
       "    }\n",
       "</style>\n",
       "<table border=\"1\" class=\"dataframe\">\n",
       "  <thead>\n",
       "    <tr style=\"text-align: right;\">\n",
       "      <th></th>\n",
       "      <th>Iteration</th>\n",
       "      <th>ai</th>\n",
       "      <th>bi</th>\n",
       "    </tr>\n",
       "  </thead>\n",
       "  <tbody>\n",
       "    <tr>\n",
       "      <th>36</th>\n",
       "      <td>36</td>\n",
       "      <td>0.357403</td>\n",
       "      <td>0.357403</td>\n",
       "    </tr>\n",
       "    <tr>\n",
       "      <th>37</th>\n",
       "      <td>37</td>\n",
       "      <td>0.357403</td>\n",
       "      <td>0.357403</td>\n",
       "    </tr>\n",
       "    <tr>\n",
       "      <th>38</th>\n",
       "      <td>38</td>\n",
       "      <td>0.357403</td>\n",
       "      <td>0.357403</td>\n",
       "    </tr>\n",
       "    <tr>\n",
       "      <th>39</th>\n",
       "      <td>39</td>\n",
       "      <td>0.357403</td>\n",
       "      <td>0.357403</td>\n",
       "    </tr>\n",
       "    <tr>\n",
       "      <th>40</th>\n",
       "      <td>40</td>\n",
       "      <td>0.357403</td>\n",
       "      <td>0.357403</td>\n",
       "    </tr>\n",
       "  </tbody>\n",
       "</table>\n",
       "</div>"
      ]
     },
     "execution_count": 14,
     "metadata": {},
     "output_type": "execute_result"
    }
   ],
   "execution_count": 14
  },
  {
   "metadata": {
    "ExecuteTime": {
     "end_time": "2025-10-26T07:19:17.825469Z",
     "start_time": "2025-10-26T07:19:17.817776Z"
    }
   },
   "cell_type": "code",
   "source": [
    "def func_1_2 (x):\n",
    "    return -0.9*x**2 + 1.7*x + 2.5\n",
    "bisection_method(2.8,3,func_1_2, 1/10**8)[-5:]"
   ],
   "id": "7b2c19857eaeb7e3",
   "outputs": [
    {
     "data": {
      "text/plain": [
       "    Iteration        ai        bi\n",
       "20         20  2.860104  2.860105\n",
       "21         21  2.860104  2.860104\n",
       "22         22  2.860104  2.860104\n",
       "23         23  2.860104  2.860104\n",
       "24         24  2.860104  2.860104"
      ],
      "text/html": [
       "<div>\n",
       "<style scoped>\n",
       "    .dataframe tbody tr th:only-of-type {\n",
       "        vertical-align: middle;\n",
       "    }\n",
       "\n",
       "    .dataframe tbody tr th {\n",
       "        vertical-align: top;\n",
       "    }\n",
       "\n",
       "    .dataframe thead th {\n",
       "        text-align: right;\n",
       "    }\n",
       "</style>\n",
       "<table border=\"1\" class=\"dataframe\">\n",
       "  <thead>\n",
       "    <tr style=\"text-align: right;\">\n",
       "      <th></th>\n",
       "      <th>Iteration</th>\n",
       "      <th>ai</th>\n",
       "      <th>bi</th>\n",
       "    </tr>\n",
       "  </thead>\n",
       "  <tbody>\n",
       "    <tr>\n",
       "      <th>20</th>\n",
       "      <td>20</td>\n",
       "      <td>2.860104</td>\n",
       "      <td>2.860105</td>\n",
       "    </tr>\n",
       "    <tr>\n",
       "      <th>21</th>\n",
       "      <td>21</td>\n",
       "      <td>2.860104</td>\n",
       "      <td>2.860104</td>\n",
       "    </tr>\n",
       "    <tr>\n",
       "      <th>22</th>\n",
       "      <td>22</td>\n",
       "      <td>2.860104</td>\n",
       "      <td>2.860104</td>\n",
       "    </tr>\n",
       "    <tr>\n",
       "      <th>23</th>\n",
       "      <td>23</td>\n",
       "      <td>2.860104</td>\n",
       "      <td>2.860104</td>\n",
       "    </tr>\n",
       "    <tr>\n",
       "      <th>24</th>\n",
       "      <td>24</td>\n",
       "      <td>2.860104</td>\n",
       "      <td>2.860104</td>\n",
       "    </tr>\n",
       "  </tbody>\n",
       "</table>\n",
       "</div>"
      ]
     },
     "execution_count": 15,
     "metadata": {},
     "output_type": "execute_result"
    }
   ],
   "execution_count": 15
  },
  {
   "metadata": {
    "ExecuteTime": {
     "end_time": "2025-10-26T07:21:59.625439Z",
     "start_time": "2025-10-26T07:21:59.616915Z"
    }
   },
   "cell_type": "code",
   "source": [
    "def func_1_3 (x):\n",
    "    return 0.7*x**3 - 4*x**2 + 6.2*x - 2\n",
    "bisection_method(1.5,2.5,func_1_3, 1/10**10)"
   ],
   "id": "4ceabf6f7c06ad59",
   "outputs": [
    {
     "data": {
      "text/plain": [
       "   Iteration   ai   bi\n",
       "0          0  1.5  2.5\n",
       "1          1  2.0  2.0"
      ],
      "text/html": [
       "<div>\n",
       "<style scoped>\n",
       "    .dataframe tbody tr th:only-of-type {\n",
       "        vertical-align: middle;\n",
       "    }\n",
       "\n",
       "    .dataframe tbody tr th {\n",
       "        vertical-align: top;\n",
       "    }\n",
       "\n",
       "    .dataframe thead th {\n",
       "        text-align: right;\n",
       "    }\n",
       "</style>\n",
       "<table border=\"1\" class=\"dataframe\">\n",
       "  <thead>\n",
       "    <tr style=\"text-align: right;\">\n",
       "      <th></th>\n",
       "      <th>Iteration</th>\n",
       "      <th>ai</th>\n",
       "      <th>bi</th>\n",
       "    </tr>\n",
       "  </thead>\n",
       "  <tbody>\n",
       "    <tr>\n",
       "      <th>0</th>\n",
       "      <td>0</td>\n",
       "      <td>1.5</td>\n",
       "      <td>2.5</td>\n",
       "    </tr>\n",
       "    <tr>\n",
       "      <th>1</th>\n",
       "      <td>1</td>\n",
       "      <td>2.0</td>\n",
       "      <td>2.0</td>\n",
       "    </tr>\n",
       "  </tbody>\n",
       "</table>\n",
       "</div>"
      ]
     },
     "execution_count": 22,
     "metadata": {},
     "output_type": "execute_result"
    }
   ],
   "execution_count": 22
  },
  {
   "metadata": {},
   "cell_type": "markdown",
   "source": "#### Regula-falsy method\n",
   "id": "cd2b876c81943b8f"
  },
  {
   "metadata": {
    "ExecuteTime": {
     "end_time": "2025-10-26T07:22:54.903630Z",
     "start_time": "2025-10-26T07:22:54.897277Z"
    }
   },
   "cell_type": "code",
   "source": [
    "def regula_falsy (a0, b0, fx, prec):\n",
    "    log_data = []\n",
    "    if a0 > b0 or fx(a0) * fx(b0) >= 0:\n",
    "        return pd.DataFrame(log_data, columns=['Iteration', 'ai', 'bi'])\n",
    "    i = 0\n",
    "    ai = a0\n",
    "    bi = b0\n",
    "    while bi-ai > prec:\n",
    "        log_data.append([i, ai, bi])\n",
    "        ci = (ai*fx(bi) - bi*fx(ai)) / (fx(bi) - fx(ai))\n",
    "        if fx(ci) == 0:\n",
    "            log_data.append([i+1, ci, ci])\n",
    "            return pd.DataFrame(log_data, columns=['Iteration', 'ai', 'bi'])\n",
    "        elif fx(ci) * fx(ai) > 0:\n",
    "            ai = ci\n",
    "        else:\n",
    "            bi = ci\n",
    "        i += 1\n",
    "    return pd.DataFrame(log_data, columns=['Iteration', 'ai', 'bi'])"
   ],
   "id": "4b6d0ce08f42c9bb",
   "outputs": [],
   "execution_count": 26
  },
  {
   "metadata": {
    "ExecuteTime": {
     "end_time": "2025-10-26T07:22:56.193158Z",
     "start_time": "2025-10-26T07:22:56.185033Z"
    }
   },
   "cell_type": "code",
   "source": "regula_falsy(-1, 1, func_1_1, 1 / 10 ** 12)[-5:]",
   "id": "70233458e39ad9fe",
   "outputs": [
    {
     "data": {
      "text/plain": [
       "    Iteration        ai        bi\n",
       "21         21 -1.000000  0.357403\n",
       "22         22 -1.000000  0.357403\n",
       "23         23 -1.000000  0.357403\n",
       "24         24 -1.000000  0.357403\n",
       "25         25  0.357403  0.357403"
      ],
      "text/html": [
       "<div>\n",
       "<style scoped>\n",
       "    .dataframe tbody tr th:only-of-type {\n",
       "        vertical-align: middle;\n",
       "    }\n",
       "\n",
       "    .dataframe tbody tr th {\n",
       "        vertical-align: top;\n",
       "    }\n",
       "\n",
       "    .dataframe thead th {\n",
       "        text-align: right;\n",
       "    }\n",
       "</style>\n",
       "<table border=\"1\" class=\"dataframe\">\n",
       "  <thead>\n",
       "    <tr style=\"text-align: right;\">\n",
       "      <th></th>\n",
       "      <th>Iteration</th>\n",
       "      <th>ai</th>\n",
       "      <th>bi</th>\n",
       "    </tr>\n",
       "  </thead>\n",
       "  <tbody>\n",
       "    <tr>\n",
       "      <th>21</th>\n",
       "      <td>21</td>\n",
       "      <td>-1.000000</td>\n",
       "      <td>0.357403</td>\n",
       "    </tr>\n",
       "    <tr>\n",
       "      <th>22</th>\n",
       "      <td>22</td>\n",
       "      <td>-1.000000</td>\n",
       "      <td>0.357403</td>\n",
       "    </tr>\n",
       "    <tr>\n",
       "      <th>23</th>\n",
       "      <td>23</td>\n",
       "      <td>-1.000000</td>\n",
       "      <td>0.357403</td>\n",
       "    </tr>\n",
       "    <tr>\n",
       "      <th>24</th>\n",
       "      <td>24</td>\n",
       "      <td>-1.000000</td>\n",
       "      <td>0.357403</td>\n",
       "    </tr>\n",
       "    <tr>\n",
       "      <th>25</th>\n",
       "      <td>25</td>\n",
       "      <td>0.357403</td>\n",
       "      <td>0.357403</td>\n",
       "    </tr>\n",
       "  </tbody>\n",
       "</table>\n",
       "</div>"
      ]
     },
     "execution_count": 27,
     "metadata": {},
     "output_type": "execute_result"
    }
   ],
   "execution_count": 27
  },
  {
   "metadata": {
    "ExecuteTime": {
     "end_time": "2025-10-26T07:18:08.673539Z",
     "start_time": "2025-10-26T07:18:08.661853Z"
    }
   },
   "cell_type": "code",
   "source": "regula_falsy(2.8, 3, func_1_2, 1 / 10 ** 8)[-5:]",
   "id": "1b30301e426719e3",
   "outputs": [
    {
     "data": {
      "text/plain": [
       "    Iteration        ai  bi\n",
       "6           6  2.860104   3\n",
       "7           7  2.860104   3\n",
       "8           8  2.860104   3\n",
       "9           9  2.860104   3\n",
       "10         10  2.860104   3"
      ],
      "text/html": [
       "<div>\n",
       "<style scoped>\n",
       "    .dataframe tbody tr th:only-of-type {\n",
       "        vertical-align: middle;\n",
       "    }\n",
       "\n",
       "    .dataframe tbody tr th {\n",
       "        vertical-align: top;\n",
       "    }\n",
       "\n",
       "    .dataframe thead th {\n",
       "        text-align: right;\n",
       "    }\n",
       "</style>\n",
       "<table border=\"1\" class=\"dataframe\">\n",
       "  <thead>\n",
       "    <tr style=\"text-align: right;\">\n",
       "      <th></th>\n",
       "      <th>Iteration</th>\n",
       "      <th>ai</th>\n",
       "      <th>bi</th>\n",
       "    </tr>\n",
       "  </thead>\n",
       "  <tbody>\n",
       "    <tr>\n",
       "      <th>6</th>\n",
       "      <td>6</td>\n",
       "      <td>2.860104</td>\n",
       "      <td>3</td>\n",
       "    </tr>\n",
       "    <tr>\n",
       "      <th>7</th>\n",
       "      <td>7</td>\n",
       "      <td>2.860104</td>\n",
       "      <td>3</td>\n",
       "    </tr>\n",
       "    <tr>\n",
       "      <th>8</th>\n",
       "      <td>8</td>\n",
       "      <td>2.860104</td>\n",
       "      <td>3</td>\n",
       "    </tr>\n",
       "    <tr>\n",
       "      <th>9</th>\n",
       "      <td>9</td>\n",
       "      <td>2.860104</td>\n",
       "      <td>3</td>\n",
       "    </tr>\n",
       "    <tr>\n",
       "      <th>10</th>\n",
       "      <td>10</td>\n",
       "      <td>2.860104</td>\n",
       "      <td>3</td>\n",
       "    </tr>\n",
       "  </tbody>\n",
       "</table>\n",
       "</div>"
      ]
     },
     "execution_count": 10,
     "metadata": {},
     "output_type": "execute_result"
    }
   ],
   "execution_count": 10
  },
  {
   "metadata": {
    "ExecuteTime": {
     "end_time": "2025-10-26T07:18:14.083398Z",
     "start_time": "2025-10-26T07:18:14.075484Z"
    }
   },
   "cell_type": "code",
   "source": "regula_falsy(1.5, 2.5, func_1_3, 1 / 10 ** 10)[-5:]",
   "id": "7e7af889b0ab0363",
   "outputs": [
    {
     "data": {
      "text/plain": [
       "   Iteration        ai        bi\n",
       "1          1  1.500000  2.040816\n",
       "2          2  1.998137  2.040816\n",
       "3          3  1.998137  2.000012\n",
       "4          4  1.998137  2.000000\n",
       "5          5  1.998137  2.000000"
      ],
      "text/html": [
       "<div>\n",
       "<style scoped>\n",
       "    .dataframe tbody tr th:only-of-type {\n",
       "        vertical-align: middle;\n",
       "    }\n",
       "\n",
       "    .dataframe tbody tr th {\n",
       "        vertical-align: top;\n",
       "    }\n",
       "\n",
       "    .dataframe thead th {\n",
       "        text-align: right;\n",
       "    }\n",
       "</style>\n",
       "<table border=\"1\" class=\"dataframe\">\n",
       "  <thead>\n",
       "    <tr style=\"text-align: right;\">\n",
       "      <th></th>\n",
       "      <th>Iteration</th>\n",
       "      <th>ai</th>\n",
       "      <th>bi</th>\n",
       "    </tr>\n",
       "  </thead>\n",
       "  <tbody>\n",
       "    <tr>\n",
       "      <th>1</th>\n",
       "      <td>1</td>\n",
       "      <td>1.500000</td>\n",
       "      <td>2.040816</td>\n",
       "    </tr>\n",
       "    <tr>\n",
       "      <th>2</th>\n",
       "      <td>2</td>\n",
       "      <td>1.998137</td>\n",
       "      <td>2.040816</td>\n",
       "    </tr>\n",
       "    <tr>\n",
       "      <th>3</th>\n",
       "      <td>3</td>\n",
       "      <td>1.998137</td>\n",
       "      <td>2.000012</td>\n",
       "    </tr>\n",
       "    <tr>\n",
       "      <th>4</th>\n",
       "      <td>4</td>\n",
       "      <td>1.998137</td>\n",
       "      <td>2.000000</td>\n",
       "    </tr>\n",
       "    <tr>\n",
       "      <th>5</th>\n",
       "      <td>5</td>\n",
       "      <td>1.998137</td>\n",
       "      <td>2.000000</td>\n",
       "    </tr>\n",
       "  </tbody>\n",
       "</table>\n",
       "</div>"
      ]
     },
     "execution_count": 12,
     "metadata": {},
     "output_type": "execute_result"
    }
   ],
   "execution_count": 12
  },
  {
   "metadata": {},
   "cell_type": "markdown",
   "source": "Знаходження всіх коренів",
   "id": "e5a405bcc107c2e5"
  },
  {
   "metadata": {
    "ExecuteTime": {
     "end_time": "2025-10-26T07:24:23.407413Z",
     "start_time": "2025-10-26T07:24:23.399419Z"
    }
   },
   "cell_type": "code",
   "source": "regula_falsy(0.1, 1.5, func_1_3, 1 / 10 ** 10)[-5:]",
   "id": "de6892120a116e7b",
   "outputs": [
    {
     "data": {
      "text/plain": [
       "    Iteration        ai        bi\n",
       "25         25  0.100000  0.435732\n",
       "26         26  0.100000  0.435732\n",
       "27         27  0.100000  0.435732\n",
       "28         28  0.100000  0.435732\n",
       "29         29  0.435732  0.435732"
      ],
      "text/html": [
       "<div>\n",
       "<style scoped>\n",
       "    .dataframe tbody tr th:only-of-type {\n",
       "        vertical-align: middle;\n",
       "    }\n",
       "\n",
       "    .dataframe tbody tr th {\n",
       "        vertical-align: top;\n",
       "    }\n",
       "\n",
       "    .dataframe thead th {\n",
       "        text-align: right;\n",
       "    }\n",
       "</style>\n",
       "<table border=\"1\" class=\"dataframe\">\n",
       "  <thead>\n",
       "    <tr style=\"text-align: right;\">\n",
       "      <th></th>\n",
       "      <th>Iteration</th>\n",
       "      <th>ai</th>\n",
       "      <th>bi</th>\n",
       "    </tr>\n",
       "  </thead>\n",
       "  <tbody>\n",
       "    <tr>\n",
       "      <th>25</th>\n",
       "      <td>25</td>\n",
       "      <td>0.100000</td>\n",
       "      <td>0.435732</td>\n",
       "    </tr>\n",
       "    <tr>\n",
       "      <th>26</th>\n",
       "      <td>26</td>\n",
       "      <td>0.100000</td>\n",
       "      <td>0.435732</td>\n",
       "    </tr>\n",
       "    <tr>\n",
       "      <th>27</th>\n",
       "      <td>27</td>\n",
       "      <td>0.100000</td>\n",
       "      <td>0.435732</td>\n",
       "    </tr>\n",
       "    <tr>\n",
       "      <th>28</th>\n",
       "      <td>28</td>\n",
       "      <td>0.100000</td>\n",
       "      <td>0.435732</td>\n",
       "    </tr>\n",
       "    <tr>\n",
       "      <th>29</th>\n",
       "      <td>29</td>\n",
       "      <td>0.435732</td>\n",
       "      <td>0.435732</td>\n",
       "    </tr>\n",
       "  </tbody>\n",
       "</table>\n",
       "</div>"
      ]
     },
     "execution_count": 29,
     "metadata": {},
     "output_type": "execute_result"
    }
   ],
   "execution_count": 29
  },
  {
   "metadata": {
    "ExecuteTime": {
     "end_time": "2025-10-26T07:24:24.841958Z",
     "start_time": "2025-10-26T07:24:24.832160Z"
    }
   },
   "cell_type": "code",
   "source": "regula_falsy(1.5, 2.5, func_1_3, 1 / 10 ** 10)[-5:]",
   "id": "183745eb1a20b13a",
   "outputs": [
    {
     "data": {
      "text/plain": [
       "   Iteration        ai        bi\n",
       "1          1  1.500000  2.040816\n",
       "2          2  1.998137  2.040816\n",
       "3          3  1.998137  2.000012\n",
       "4          4  1.998137  2.000000\n",
       "5          5  1.998137  2.000000"
      ],
      "text/html": [
       "<div>\n",
       "<style scoped>\n",
       "    .dataframe tbody tr th:only-of-type {\n",
       "        vertical-align: middle;\n",
       "    }\n",
       "\n",
       "    .dataframe tbody tr th {\n",
       "        vertical-align: top;\n",
       "    }\n",
       "\n",
       "    .dataframe thead th {\n",
       "        text-align: right;\n",
       "    }\n",
       "</style>\n",
       "<table border=\"1\" class=\"dataframe\">\n",
       "  <thead>\n",
       "    <tr style=\"text-align: right;\">\n",
       "      <th></th>\n",
       "      <th>Iteration</th>\n",
       "      <th>ai</th>\n",
       "      <th>bi</th>\n",
       "    </tr>\n",
       "  </thead>\n",
       "  <tbody>\n",
       "    <tr>\n",
       "      <th>1</th>\n",
       "      <td>1</td>\n",
       "      <td>1.500000</td>\n",
       "      <td>2.040816</td>\n",
       "    </tr>\n",
       "    <tr>\n",
       "      <th>2</th>\n",
       "      <td>2</td>\n",
       "      <td>1.998137</td>\n",
       "      <td>2.040816</td>\n",
       "    </tr>\n",
       "    <tr>\n",
       "      <th>3</th>\n",
       "      <td>3</td>\n",
       "      <td>1.998137</td>\n",
       "      <td>2.000012</td>\n",
       "    </tr>\n",
       "    <tr>\n",
       "      <th>4</th>\n",
       "      <td>4</td>\n",
       "      <td>1.998137</td>\n",
       "      <td>2.000000</td>\n",
       "    </tr>\n",
       "    <tr>\n",
       "      <th>5</th>\n",
       "      <td>5</td>\n",
       "      <td>1.998137</td>\n",
       "      <td>2.000000</td>\n",
       "    </tr>\n",
       "  </tbody>\n",
       "</table>\n",
       "</div>"
      ]
     },
     "execution_count": 30,
     "metadata": {},
     "output_type": "execute_result"
    }
   ],
   "execution_count": 30
  },
  {
   "metadata": {
    "ExecuteTime": {
     "end_time": "2025-10-26T07:24:26.482318Z",
     "start_time": "2025-10-26T07:24:26.474770Z"
    }
   },
   "cell_type": "code",
   "source": "regula_falsy(2.5, 3.8, func_1_3, 1 / 10 ** 10)[-5:]",
   "id": "4192e6b92ed4b013",
   "outputs": [
    {
     "data": {
      "text/plain": [
       "    Iteration        ai   bi\n",
       "33         33  3.278553  3.8\n",
       "34         34  3.278553  3.8\n",
       "35         35  3.278553  3.8\n",
       "36         36  3.278553  3.8\n",
       "37         37  3.278553  3.8"
      ],
      "text/html": [
       "<div>\n",
       "<style scoped>\n",
       "    .dataframe tbody tr th:only-of-type {\n",
       "        vertical-align: middle;\n",
       "    }\n",
       "\n",
       "    .dataframe tbody tr th {\n",
       "        vertical-align: top;\n",
       "    }\n",
       "\n",
       "    .dataframe thead th {\n",
       "        text-align: right;\n",
       "    }\n",
       "</style>\n",
       "<table border=\"1\" class=\"dataframe\">\n",
       "  <thead>\n",
       "    <tr style=\"text-align: right;\">\n",
       "      <th></th>\n",
       "      <th>Iteration</th>\n",
       "      <th>ai</th>\n",
       "      <th>bi</th>\n",
       "    </tr>\n",
       "  </thead>\n",
       "  <tbody>\n",
       "    <tr>\n",
       "      <th>33</th>\n",
       "      <td>33</td>\n",
       "      <td>3.278553</td>\n",
       "      <td>3.8</td>\n",
       "    </tr>\n",
       "    <tr>\n",
       "      <th>34</th>\n",
       "      <td>34</td>\n",
       "      <td>3.278553</td>\n",
       "      <td>3.8</td>\n",
       "    </tr>\n",
       "    <tr>\n",
       "      <th>35</th>\n",
       "      <td>35</td>\n",
       "      <td>3.278553</td>\n",
       "      <td>3.8</td>\n",
       "    </tr>\n",
       "    <tr>\n",
       "      <th>36</th>\n",
       "      <td>36</td>\n",
       "      <td>3.278553</td>\n",
       "      <td>3.8</td>\n",
       "    </tr>\n",
       "    <tr>\n",
       "      <th>37</th>\n",
       "      <td>37</td>\n",
       "      <td>3.278553</td>\n",
       "      <td>3.8</td>\n",
       "    </tr>\n",
       "  </tbody>\n",
       "</table>\n",
       "</div>"
      ]
     },
     "execution_count": 31,
     "metadata": {},
     "output_type": "execute_result"
    }
   ],
   "execution_count": 31
  },
  {
   "metadata": {},
   "cell_type": "markdown",
   "source": "#### Regula-falsy modified method",
   "id": "bbb123abe01d8f4a"
  },
  {
   "metadata": {
    "ExecuteTime": {
     "end_time": "2025-10-26T07:25:40.133568Z",
     "start_time": "2025-10-26T07:25:40.127801Z"
    }
   },
   "cell_type": "code",
   "source": [
    "def regula_falsy_mod (a0, b0, fx, prec):\n",
    "    log_data = []\n",
    "\n",
    "    if a0 > b0 or fx(a0) * fx(b0) >= 0:\n",
    "        return pd.DataFrame(log_data, columns=['Iteration', 'ai', 'bi'])\n",
    "    i = 0\n",
    "    ai = a0\n",
    "    bi = b0\n",
    "\n",
    "    pre, prepre = 0, 0\n",
    "\n",
    "    while bi-ai > prec:\n",
    "        log_data.append([i, ai, bi])\n",
    "        if pre == 1 and prepre == 1:\n",
    "            ci = (ai*fx(bi)/2 - bi*fx(ai)) / (fx(bi)/2 - fx(ai))\n",
    "        elif pre == -1 and prepre == -1:\n",
    "            ci = (ai*fx(bi) - bi*fx(ai)/2) / (fx(bi) - fx(ai)/2)\n",
    "        else:\n",
    "            ci = (ai*fx(bi) - bi*fx(ai)) / (fx(bi) - fx(ai))\n",
    "        if fx(ci) == 0:\n",
    "            log_data.append([i, ci, ci])\n",
    "            return pd.DataFrame(log_data, columns=['Iteration', 'ai', 'bi'])\n",
    "        elif fx(ci) * fx(ai) > 0:\n",
    "            ai = ci\n",
    "            prepre = pre\n",
    "            pre = 1\n",
    "        else:\n",
    "            bi = cis\n",
    "            prepre = pre\n",
    "            pre = -1\n",
    "        i += 1\n",
    "    return pd.DataFrame(log_data, columns=['Iteration', 'ai', 'bi'])"
   ],
   "id": "4182f007d2dac0f3",
   "outputs": [],
   "execution_count": 33
  },
  {
   "metadata": {
    "ExecuteTime": {
     "end_time": "2025-10-26T07:26:00.514814Z",
     "start_time": "2025-10-26T07:26:00.505626Z"
    }
   },
   "cell_type": "code",
   "source": "regula_falsy_mod(-1, 1, func_1_1, 1 / 10 ** 12)[-5:]",
   "id": "7540471a7c878217",
   "outputs": [
    {
     "data": {
      "text/plain": [
       "   Iteration        ai        bi\n",
       "4          4  0.334213  0.357677\n",
       "5          5  0.334213  0.357405\n",
       "6          6  0.357401  0.357405\n",
       "7          7  0.357401  0.357403\n",
       "8          8  0.357401  0.357403"
      ],
      "text/html": [
       "<div>\n",
       "<style scoped>\n",
       "    .dataframe tbody tr th:only-of-type {\n",
       "        vertical-align: middle;\n",
       "    }\n",
       "\n",
       "    .dataframe tbody tr th {\n",
       "        vertical-align: top;\n",
       "    }\n",
       "\n",
       "    .dataframe thead th {\n",
       "        text-align: right;\n",
       "    }\n",
       "</style>\n",
       "<table border=\"1\" class=\"dataframe\">\n",
       "  <thead>\n",
       "    <tr style=\"text-align: right;\">\n",
       "      <th></th>\n",
       "      <th>Iteration</th>\n",
       "      <th>ai</th>\n",
       "      <th>bi</th>\n",
       "    </tr>\n",
       "  </thead>\n",
       "  <tbody>\n",
       "    <tr>\n",
       "      <th>4</th>\n",
       "      <td>4</td>\n",
       "      <td>0.334213</td>\n",
       "      <td>0.357677</td>\n",
       "    </tr>\n",
       "    <tr>\n",
       "      <th>5</th>\n",
       "      <td>5</td>\n",
       "      <td>0.334213</td>\n",
       "      <td>0.357405</td>\n",
       "    </tr>\n",
       "    <tr>\n",
       "      <th>6</th>\n",
       "      <td>6</td>\n",
       "      <td>0.357401</td>\n",
       "      <td>0.357405</td>\n",
       "    </tr>\n",
       "    <tr>\n",
       "      <th>7</th>\n",
       "      <td>7</td>\n",
       "      <td>0.357401</td>\n",
       "      <td>0.357403</td>\n",
       "    </tr>\n",
       "    <tr>\n",
       "      <th>8</th>\n",
       "      <td>8</td>\n",
       "      <td>0.357401</td>\n",
       "      <td>0.357403</td>\n",
       "    </tr>\n",
       "  </tbody>\n",
       "</table>\n",
       "</div>"
      ]
     },
     "execution_count": 34,
     "metadata": {},
     "output_type": "execute_result"
    }
   ],
   "execution_count": 34
  },
  {
   "metadata": {
    "ExecuteTime": {
     "end_time": "2025-10-26T07:26:02.154053Z",
     "start_time": "2025-10-26T07:26:02.145943Z"
    }
   },
   "cell_type": "code",
   "source": "regula_falsy_mod(2.8, 3, func_1_2, 1 / 10 ** 8)[-5:]",
   "id": "8f440df0428654cc",
   "outputs": [
    {
     "data": {
      "text/plain": [
       "   Iteration        ai        bi\n",
       "1          1  2.857955  3.000000\n",
       "2          2  2.860029  3.000000\n",
       "3          3  2.860029  2.860175\n",
       "4          4  2.860104  2.860175\n",
       "5          5  2.860104  2.860175"
      ],
      "text/html": [
       "<div>\n",
       "<style scoped>\n",
       "    .dataframe tbody tr th:only-of-type {\n",
       "        vertical-align: middle;\n",
       "    }\n",
       "\n",
       "    .dataframe tbody tr th {\n",
       "        vertical-align: top;\n",
       "    }\n",
       "\n",
       "    .dataframe thead th {\n",
       "        text-align: right;\n",
       "    }\n",
       "</style>\n",
       "<table border=\"1\" class=\"dataframe\">\n",
       "  <thead>\n",
       "    <tr style=\"text-align: right;\">\n",
       "      <th></th>\n",
       "      <th>Iteration</th>\n",
       "      <th>ai</th>\n",
       "      <th>bi</th>\n",
       "    </tr>\n",
       "  </thead>\n",
       "  <tbody>\n",
       "    <tr>\n",
       "      <th>1</th>\n",
       "      <td>1</td>\n",
       "      <td>2.857955</td>\n",
       "      <td>3.000000</td>\n",
       "    </tr>\n",
       "    <tr>\n",
       "      <th>2</th>\n",
       "      <td>2</td>\n",
       "      <td>2.860029</td>\n",
       "      <td>3.000000</td>\n",
       "    </tr>\n",
       "    <tr>\n",
       "      <th>3</th>\n",
       "      <td>3</td>\n",
       "      <td>2.860029</td>\n",
       "      <td>2.860175</td>\n",
       "    </tr>\n",
       "    <tr>\n",
       "      <th>4</th>\n",
       "      <td>4</td>\n",
       "      <td>2.860104</td>\n",
       "      <td>2.860175</td>\n",
       "    </tr>\n",
       "    <tr>\n",
       "      <th>5</th>\n",
       "      <td>5</td>\n",
       "      <td>2.860104</td>\n",
       "      <td>2.860175</td>\n",
       "    </tr>\n",
       "  </tbody>\n",
       "</table>\n",
       "</div>"
      ]
     },
     "execution_count": 35,
     "metadata": {},
     "output_type": "execute_result"
    }
   ],
   "execution_count": 35
  },
  {
   "metadata": {
    "ExecuteTime": {
     "end_time": "2025-10-26T07:26:03.754495Z",
     "start_time": "2025-10-26T07:26:03.746903Z"
    }
   },
   "cell_type": "code",
   "source": "regula_falsy_mod(1.5, 2.5, func_1_3, 1 / 10 ** 10)[-5:]",
   "id": "d3e8023f6a841b6c",
   "outputs": [
    {
     "data": {
      "text/plain": [
       "   Iteration        ai        bi\n",
       "2          2  1.998137  2.040816\n",
       "3          3  1.998137  2.000012\n",
       "4          4  1.998137  2.000000\n",
       "5          5  2.000000  2.000000\n",
       "6          5  2.000000  2.000000"
      ],
      "text/html": [
       "<div>\n",
       "<style scoped>\n",
       "    .dataframe tbody tr th:only-of-type {\n",
       "        vertical-align: middle;\n",
       "    }\n",
       "\n",
       "    .dataframe tbody tr th {\n",
       "        vertical-align: top;\n",
       "    }\n",
       "\n",
       "    .dataframe thead th {\n",
       "        text-align: right;\n",
       "    }\n",
       "</style>\n",
       "<table border=\"1\" class=\"dataframe\">\n",
       "  <thead>\n",
       "    <tr style=\"text-align: right;\">\n",
       "      <th></th>\n",
       "      <th>Iteration</th>\n",
       "      <th>ai</th>\n",
       "      <th>bi</th>\n",
       "    </tr>\n",
       "  </thead>\n",
       "  <tbody>\n",
       "    <tr>\n",
       "      <th>2</th>\n",
       "      <td>2</td>\n",
       "      <td>1.998137</td>\n",
       "      <td>2.040816</td>\n",
       "    </tr>\n",
       "    <tr>\n",
       "      <th>3</th>\n",
       "      <td>3</td>\n",
       "      <td>1.998137</td>\n",
       "      <td>2.000012</td>\n",
       "    </tr>\n",
       "    <tr>\n",
       "      <th>4</th>\n",
       "      <td>4</td>\n",
       "      <td>1.998137</td>\n",
       "      <td>2.000000</td>\n",
       "    </tr>\n",
       "    <tr>\n",
       "      <th>5</th>\n",
       "      <td>5</td>\n",
       "      <td>2.000000</td>\n",
       "      <td>2.000000</td>\n",
       "    </tr>\n",
       "    <tr>\n",
       "      <th>6</th>\n",
       "      <td>5</td>\n",
       "      <td>2.000000</td>\n",
       "      <td>2.000000</td>\n",
       "    </tr>\n",
       "  </tbody>\n",
       "</table>\n",
       "</div>"
      ]
     },
     "execution_count": 36,
     "metadata": {},
     "output_type": "execute_result"
    }
   ],
   "execution_count": 36
  },
  {
   "metadata": {},
   "cell_type": "markdown",
   "source": [
    "### Ex 2\n",
    "#### Fixed point method"
   ],
   "id": "663665130007bdbc"
  },
  {
   "metadata": {
    "ExecuteTime": {
     "end_time": "2025-10-26T07:31:46.958004Z",
     "start_time": "2025-10-26T07:31:46.931351Z"
    }
   },
   "cell_type": "code",
   "source": [
    "def fixed_point_method (x0, fx, prec, alpha):\n",
    "    log_data = []\n",
    "    i = 0\n",
    "    def f_small (x):\n",
    "        return x - alpha * fx(x)\n",
    "    xi = f_small(x0)\n",
    "    while abs(xi - x0) > prec:\n",
    "        log_data.append([i,xi])\n",
    "        x0 = xi\n",
    "        i += 1\n",
    "        xi = f_small(xi)\n",
    "    return pd.DataFrame(log_data, columns=['Iteration', 'xi'])\n"
   ],
   "id": "cdde8b6e6b9b0ad1",
   "outputs": [],
   "execution_count": 37
  },
  {
   "metadata": {
    "ExecuteTime": {
     "end_time": "2025-10-26T07:32:01.526377Z",
     "start_time": "2025-10-26T07:32:01.488515Z"
    }
   },
   "cell_type": "code",
   "source": [
    "def func_2_1 (x):\n",
    "    return x**3 + x - 1\n",
    "\n",
    "fixed_point_method(1,func_2_1, 1/10**12, 0.5)[-5:]"
   ],
   "id": "f50c9aa04eb06976",
   "outputs": [
    {
     "data": {
      "text/plain": [
       "    Iteration        xi\n",
       "11         11  0.682328\n",
       "12         12  0.682328\n",
       "13         13  0.682328\n",
       "14         14  0.682328\n",
       "15         15  0.682328"
      ],
      "text/html": [
       "<div>\n",
       "<style scoped>\n",
       "    .dataframe tbody tr th:only-of-type {\n",
       "        vertical-align: middle;\n",
       "    }\n",
       "\n",
       "    .dataframe tbody tr th {\n",
       "        vertical-align: top;\n",
       "    }\n",
       "\n",
       "    .dataframe thead th {\n",
       "        text-align: right;\n",
       "    }\n",
       "</style>\n",
       "<table border=\"1\" class=\"dataframe\">\n",
       "  <thead>\n",
       "    <tr style=\"text-align: right;\">\n",
       "      <th></th>\n",
       "      <th>Iteration</th>\n",
       "      <th>xi</th>\n",
       "    </tr>\n",
       "  </thead>\n",
       "  <tbody>\n",
       "    <tr>\n",
       "      <th>11</th>\n",
       "      <td>11</td>\n",
       "      <td>0.682328</td>\n",
       "    </tr>\n",
       "    <tr>\n",
       "      <th>12</th>\n",
       "      <td>12</td>\n",
       "      <td>0.682328</td>\n",
       "    </tr>\n",
       "    <tr>\n",
       "      <th>13</th>\n",
       "      <td>13</td>\n",
       "      <td>0.682328</td>\n",
       "    </tr>\n",
       "    <tr>\n",
       "      <th>14</th>\n",
       "      <td>14</td>\n",
       "      <td>0.682328</td>\n",
       "    </tr>\n",
       "    <tr>\n",
       "      <th>15</th>\n",
       "      <td>15</td>\n",
       "      <td>0.682328</td>\n",
       "    </tr>\n",
       "  </tbody>\n",
       "</table>\n",
       "</div>"
      ]
     },
     "execution_count": 38,
     "metadata": {},
     "output_type": "execute_result"
    }
   ],
   "execution_count": 38
  },
  {
   "metadata": {
    "ExecuteTime": {
     "end_time": "2025-10-26T07:32:13.543583Z",
     "start_time": "2025-10-26T07:32:13.532891Z"
    }
   },
   "cell_type": "code",
   "source": [
    "def func_2_2 (x):\n",
    "    return math.cos(x % (2 * math.pi)) - x\n",
    "\n",
    "fixed_point_method(1,func_2_2, 1/10**10, -0.5)[-5:]"
   ],
   "id": "ac3ae732a1b499ab",
   "outputs": [
    {
     "data": {
      "text/plain": [
       "    Iteration        xi\n",
       "7           7  0.739085\n",
       "8           8  0.739085\n",
       "9           9  0.739085\n",
       "10         10  0.739085\n",
       "11         11  0.739085"
      ],
      "text/html": [
       "<div>\n",
       "<style scoped>\n",
       "    .dataframe tbody tr th:only-of-type {\n",
       "        vertical-align: middle;\n",
       "    }\n",
       "\n",
       "    .dataframe tbody tr th {\n",
       "        vertical-align: top;\n",
       "    }\n",
       "\n",
       "    .dataframe thead th {\n",
       "        text-align: right;\n",
       "    }\n",
       "</style>\n",
       "<table border=\"1\" class=\"dataframe\">\n",
       "  <thead>\n",
       "    <tr style=\"text-align: right;\">\n",
       "      <th></th>\n",
       "      <th>Iteration</th>\n",
       "      <th>xi</th>\n",
       "    </tr>\n",
       "  </thead>\n",
       "  <tbody>\n",
       "    <tr>\n",
       "      <th>7</th>\n",
       "      <td>7</td>\n",
       "      <td>0.739085</td>\n",
       "    </tr>\n",
       "    <tr>\n",
       "      <th>8</th>\n",
       "      <td>8</td>\n",
       "      <td>0.739085</td>\n",
       "    </tr>\n",
       "    <tr>\n",
       "      <th>9</th>\n",
       "      <td>9</td>\n",
       "      <td>0.739085</td>\n",
       "    </tr>\n",
       "    <tr>\n",
       "      <th>10</th>\n",
       "      <td>10</td>\n",
       "      <td>0.739085</td>\n",
       "    </tr>\n",
       "    <tr>\n",
       "      <th>11</th>\n",
       "      <td>11</td>\n",
       "      <td>0.739085</td>\n",
       "    </tr>\n",
       "  </tbody>\n",
       "</table>\n",
       "</div>"
      ]
     },
     "execution_count": 39,
     "metadata": {},
     "output_type": "execute_result"
    }
   ],
   "execution_count": 39
  },
  {
   "metadata": {
    "ExecuteTime": {
     "end_time": "2025-10-26T07:32:25.189304Z",
     "start_time": "2025-10-26T07:32:25.180332Z"
    }
   },
   "cell_type": "code",
   "source": [
    "def func_2_3 (x):\n",
    "    return math.exp(x) - 2*x - 3\n",
    "\n",
    "fixed_point_method(1, func_2_3, 1/10**8, -0.5)[-5:]"
   ],
   "id": "b7476733357caa9c",
   "outputs": [
    {
     "data": {
      "text/plain": [
       "    Iteration        xi\n",
       "6           6 -1.373363\n",
       "7           7 -1.373373\n",
       "8           8 -1.373374\n",
       "9           9 -1.373375\n",
       "10         10 -1.373375"
      ],
      "text/html": [
       "<div>\n",
       "<style scoped>\n",
       "    .dataframe tbody tr th:only-of-type {\n",
       "        vertical-align: middle;\n",
       "    }\n",
       "\n",
       "    .dataframe tbody tr th {\n",
       "        vertical-align: top;\n",
       "    }\n",
       "\n",
       "    .dataframe thead th {\n",
       "        text-align: right;\n",
       "    }\n",
       "</style>\n",
       "<table border=\"1\" class=\"dataframe\">\n",
       "  <thead>\n",
       "    <tr style=\"text-align: right;\">\n",
       "      <th></th>\n",
       "      <th>Iteration</th>\n",
       "      <th>xi</th>\n",
       "    </tr>\n",
       "  </thead>\n",
       "  <tbody>\n",
       "    <tr>\n",
       "      <th>6</th>\n",
       "      <td>6</td>\n",
       "      <td>-1.373363</td>\n",
       "    </tr>\n",
       "    <tr>\n",
       "      <th>7</th>\n",
       "      <td>7</td>\n",
       "      <td>-1.373373</td>\n",
       "    </tr>\n",
       "    <tr>\n",
       "      <th>8</th>\n",
       "      <td>8</td>\n",
       "      <td>-1.373374</td>\n",
       "    </tr>\n",
       "    <tr>\n",
       "      <th>9</th>\n",
       "      <td>9</td>\n",
       "      <td>-1.373375</td>\n",
       "    </tr>\n",
       "    <tr>\n",
       "      <th>10</th>\n",
       "      <td>10</td>\n",
       "      <td>-1.373375</td>\n",
       "    </tr>\n",
       "  </tbody>\n",
       "</table>\n",
       "</div>"
      ]
     },
     "execution_count": 40,
     "metadata": {},
     "output_type": "execute_result"
    }
   ],
   "execution_count": 40
  },
  {
   "metadata": {},
   "cell_type": "markdown",
   "source": [
    "### Ex 3\n",
    "#### Golden search method"
   ],
   "id": "319cddb1c69fac2f"
  },
  {
   "metadata": {
    "ExecuteTime": {
     "end_time": "2025-10-26T07:35:31.053377Z",
     "start_time": "2025-10-26T07:35:31.044541Z"
    }
   },
   "cell_type": "code",
   "source": [
    "def golden_search_method (a0, b0, fx, prec):\n",
    "    if a0 > b0:\n",
    "        return None\n",
    "    log_data = []\n",
    "    i = 0\n",
    "    ai = a0\n",
    "    bi = b0\n",
    "    x1 = ai + (bi - ai)*(1-0.6180339887)\n",
    "    x2 = ai + (bi - ai)*0.6180339887\n",
    "    while bi-ai > prec:\n",
    "        log_data.append([i, ai, bi])\n",
    "        if fx(x1) < fx(x2):\n",
    "            bi = x2\n",
    "            x2 = x1\n",
    "            x1 = ai + (bi - ai)*(1-0.6180339887)\n",
    "        else:\n",
    "            ai = x1\n",
    "            x1 = x2\n",
    "            x2 = ai + (bi - ai)*0.6180339887\n",
    "        i += 1\n",
    "    return pd.DataFrame(log_data, columns=['Iteration', 'ai', 'bi'])\n"
   ],
   "id": "37b641b3026a61af",
   "outputs": [],
   "execution_count": 41
  },
  {
   "metadata": {
    "ExecuteTime": {
     "end_time": "2025-10-26T07:35:37.509063Z",
     "start_time": "2025-10-26T07:35:37.494951Z"
    }
   },
   "cell_type": "code",
   "source": [
    "def func_3_1(x):\n",
    "    term = x - 1.7\n",
    "    return term**4 + term**2 + 0.5\n",
    "golden_search_method(0, 4, func_3_1, 10**-5)[-5:]"
   ],
   "id": "8c9e3902fc61e397",
   "outputs": [
    {
     "data": {
      "text/plain": [
       "    Iteration        ai        bi\n",
       "22         22  1.699966  1.700067\n",
       "23         23  1.699966  1.700029\n",
       "24         24  1.699990  1.700029\n",
       "25         25  1.699990  1.700014\n",
       "26         26  1.699990  1.700005"
      ],
      "text/html": [
       "<div>\n",
       "<style scoped>\n",
       "    .dataframe tbody tr th:only-of-type {\n",
       "        vertical-align: middle;\n",
       "    }\n",
       "\n",
       "    .dataframe tbody tr th {\n",
       "        vertical-align: top;\n",
       "    }\n",
       "\n",
       "    .dataframe thead th {\n",
       "        text-align: right;\n",
       "    }\n",
       "</style>\n",
       "<table border=\"1\" class=\"dataframe\">\n",
       "  <thead>\n",
       "    <tr style=\"text-align: right;\">\n",
       "      <th></th>\n",
       "      <th>Iteration</th>\n",
       "      <th>ai</th>\n",
       "      <th>bi</th>\n",
       "    </tr>\n",
       "  </thead>\n",
       "  <tbody>\n",
       "    <tr>\n",
       "      <th>22</th>\n",
       "      <td>22</td>\n",
       "      <td>1.699966</td>\n",
       "      <td>1.700067</td>\n",
       "    </tr>\n",
       "    <tr>\n",
       "      <th>23</th>\n",
       "      <td>23</td>\n",
       "      <td>1.699966</td>\n",
       "      <td>1.700029</td>\n",
       "    </tr>\n",
       "    <tr>\n",
       "      <th>24</th>\n",
       "      <td>24</td>\n",
       "      <td>1.699990</td>\n",
       "      <td>1.700029</td>\n",
       "    </tr>\n",
       "    <tr>\n",
       "      <th>25</th>\n",
       "      <td>25</td>\n",
       "      <td>1.699990</td>\n",
       "      <td>1.700014</td>\n",
       "    </tr>\n",
       "    <tr>\n",
       "      <th>26</th>\n",
       "      <td>26</td>\n",
       "      <td>1.699990</td>\n",
       "      <td>1.700005</td>\n",
       "    </tr>\n",
       "  </tbody>\n",
       "</table>\n",
       "</div>"
      ]
     },
     "execution_count": 42,
     "metadata": {},
     "output_type": "execute_result"
    }
   ],
   "execution_count": 42
  },
  {
   "metadata": {
    "ExecuteTime": {
     "end_time": "2025-10-26T07:35:43.027111Z",
     "start_time": "2025-10-26T07:35:43.016438Z"
    }
   },
   "cell_type": "code",
   "source": [
    "def func_3_2(x):\n",
    "    term = x - 2\n",
    "    return math.exp(0.5 * term) + term**6 + 0.1 * term**2\n",
    "golden_search_method(-1, 5, func_3_2, 10**-6)[-5:]"
   ],
   "id": "3ac42d0a88f0a54e",
   "outputs": [
    {
     "data": {
      "text/plain": [
       "    Iteration        ai        bi\n",
       "28         28  1.460610  1.460618\n",
       "29         29  1.460613  1.460618\n",
       "30         30  1.460615  1.460618\n",
       "31         31  1.460615  1.460617\n",
       "32         32  1.460615  1.460617"
      ],
      "text/html": [
       "<div>\n",
       "<style scoped>\n",
       "    .dataframe tbody tr th:only-of-type {\n",
       "        vertical-align: middle;\n",
       "    }\n",
       "\n",
       "    .dataframe tbody tr th {\n",
       "        vertical-align: top;\n",
       "    }\n",
       "\n",
       "    .dataframe thead th {\n",
       "        text-align: right;\n",
       "    }\n",
       "</style>\n",
       "<table border=\"1\" class=\"dataframe\">\n",
       "  <thead>\n",
       "    <tr style=\"text-align: right;\">\n",
       "      <th></th>\n",
       "      <th>Iteration</th>\n",
       "      <th>ai</th>\n",
       "      <th>bi</th>\n",
       "    </tr>\n",
       "  </thead>\n",
       "  <tbody>\n",
       "    <tr>\n",
       "      <th>28</th>\n",
       "      <td>28</td>\n",
       "      <td>1.460610</td>\n",
       "      <td>1.460618</td>\n",
       "    </tr>\n",
       "    <tr>\n",
       "      <th>29</th>\n",
       "      <td>29</td>\n",
       "      <td>1.460613</td>\n",
       "      <td>1.460618</td>\n",
       "    </tr>\n",
       "    <tr>\n",
       "      <th>30</th>\n",
       "      <td>30</td>\n",
       "      <td>1.460615</td>\n",
       "      <td>1.460618</td>\n",
       "    </tr>\n",
       "    <tr>\n",
       "      <th>31</th>\n",
       "      <td>31</td>\n",
       "      <td>1.460615</td>\n",
       "      <td>1.460617</td>\n",
       "    </tr>\n",
       "    <tr>\n",
       "      <th>32</th>\n",
       "      <td>32</td>\n",
       "      <td>1.460615</td>\n",
       "      <td>1.460617</td>\n",
       "    </tr>\n",
       "  </tbody>\n",
       "</table>\n",
       "</div>"
      ]
     },
     "execution_count": 43,
     "metadata": {},
     "output_type": "execute_result"
    }
   ],
   "execution_count": 43
  },
  {
   "metadata": {},
   "cell_type": "markdown",
   "source": "#### Fibonacci method\n",
   "id": "d581346af9023dbc"
  },
  {
   "metadata": {
    "ExecuteTime": {
     "end_time": "2025-10-26T07:35:46.736766Z",
     "start_time": "2025-10-26T07:35:46.726950Z"
    }
   },
   "cell_type": "code",
   "source": [
    "def fibonacci_method (a0, b0, fx, prec):\n",
    "    if a0 > b0:\n",
    "        return None\n",
    "    log_data = []\n",
    "    R = (b0-a0)/prec\n",
    "    Fi = [1,1]\n",
    "\n",
    "    while R > Fi[-1]:\n",
    "        Fi.append(Fi[-1] + Fi[-2])\n",
    "\n",
    "    ai = a0\n",
    "    bi = b0\n",
    "    x1 = a0 + (Fi[-3] / Fi[-1]) * (b0-a0)\n",
    "    x2 = a0 + (Fi[-2] / Fi[-1]) * (b0-a0)\n",
    "    i = 0\n",
    "    while bi-ai > prec:\n",
    "        log_data.append([i, ai, bi])\n",
    "        if fx(x1) < fx(x2):\n",
    "            bi = x2\n",
    "            x2 = x1\n",
    "            x1 = ai + (bi - x2)\n",
    "        else:\n",
    "            ai = x1\n",
    "            x1 = x2\n",
    "            x2 = bi - (x1 - ai)\n",
    "        i += 1\n",
    "    return pd.DataFrame(log_data, columns=['Iteration', 'ai', 'bi'])"
   ],
   "id": "3397f35538b7e712",
   "outputs": [],
   "execution_count": 44
  },
  {
   "metadata": {
    "ExecuteTime": {
     "end_time": "2025-10-26T07:35:56.255944Z",
     "start_time": "2025-10-26T07:35:56.246384Z"
    }
   },
   "cell_type": "code",
   "source": "fibonacci_method(0, 4, func_3_1, 10 ** -5)[-5:]",
   "id": "84fd2b6e48292d04",
   "outputs": [
    {
     "data": {
      "text/plain": [
       "    Iteration        ai        bi\n",
       "22         22  1.699966  1.700067\n",
       "23         23  1.699966  1.700029\n",
       "24         24  1.699990  1.700029\n",
       "25         25  1.699990  1.700013\n",
       "26         26  1.699990  1.700005"
      ],
      "text/html": [
       "<div>\n",
       "<style scoped>\n",
       "    .dataframe tbody tr th:only-of-type {\n",
       "        vertical-align: middle;\n",
       "    }\n",
       "\n",
       "    .dataframe tbody tr th {\n",
       "        vertical-align: top;\n",
       "    }\n",
       "\n",
       "    .dataframe thead th {\n",
       "        text-align: right;\n",
       "    }\n",
       "</style>\n",
       "<table border=\"1\" class=\"dataframe\">\n",
       "  <thead>\n",
       "    <tr style=\"text-align: right;\">\n",
       "      <th></th>\n",
       "      <th>Iteration</th>\n",
       "      <th>ai</th>\n",
       "      <th>bi</th>\n",
       "    </tr>\n",
       "  </thead>\n",
       "  <tbody>\n",
       "    <tr>\n",
       "      <th>22</th>\n",
       "      <td>22</td>\n",
       "      <td>1.699966</td>\n",
       "      <td>1.700067</td>\n",
       "    </tr>\n",
       "    <tr>\n",
       "      <th>23</th>\n",
       "      <td>23</td>\n",
       "      <td>1.699966</td>\n",
       "      <td>1.700029</td>\n",
       "    </tr>\n",
       "    <tr>\n",
       "      <th>24</th>\n",
       "      <td>24</td>\n",
       "      <td>1.699990</td>\n",
       "      <td>1.700029</td>\n",
       "    </tr>\n",
       "    <tr>\n",
       "      <th>25</th>\n",
       "      <td>25</td>\n",
       "      <td>1.699990</td>\n",
       "      <td>1.700013</td>\n",
       "    </tr>\n",
       "    <tr>\n",
       "      <th>26</th>\n",
       "      <td>26</td>\n",
       "      <td>1.699990</td>\n",
       "      <td>1.700005</td>\n",
       "    </tr>\n",
       "  </tbody>\n",
       "</table>\n",
       "</div>"
      ]
     },
     "execution_count": 45,
     "metadata": {},
     "output_type": "execute_result"
    }
   ],
   "execution_count": 45
  },
  {
   "metadata": {
    "ExecuteTime": {
     "end_time": "2025-10-26T07:35:57.640055Z",
     "start_time": "2025-10-26T07:35:57.631418Z"
    }
   },
   "cell_type": "code",
   "source": "fibonacci_method(-1, 5, func_3_2, 10 ** -6)[-5:]",
   "id": "d83b03734815a17e",
   "outputs": [
    {
     "data": {
      "text/plain": [
       "    Iteration        ai        bi\n",
       "28         28  1.460609  1.460618\n",
       "29         29  1.460613  1.460618\n",
       "30         30  1.460615  1.460618\n",
       "31         31  1.460615  1.460617\n",
       "32         32  1.460615  1.460617"
      ],
      "text/html": [
       "<div>\n",
       "<style scoped>\n",
       "    .dataframe tbody tr th:only-of-type {\n",
       "        vertical-align: middle;\n",
       "    }\n",
       "\n",
       "    .dataframe tbody tr th {\n",
       "        vertical-align: top;\n",
       "    }\n",
       "\n",
       "    .dataframe thead th {\n",
       "        text-align: right;\n",
       "    }\n",
       "</style>\n",
       "<table border=\"1\" class=\"dataframe\">\n",
       "  <thead>\n",
       "    <tr style=\"text-align: right;\">\n",
       "      <th></th>\n",
       "      <th>Iteration</th>\n",
       "      <th>ai</th>\n",
       "      <th>bi</th>\n",
       "    </tr>\n",
       "  </thead>\n",
       "  <tbody>\n",
       "    <tr>\n",
       "      <th>28</th>\n",
       "      <td>28</td>\n",
       "      <td>1.460609</td>\n",
       "      <td>1.460618</td>\n",
       "    </tr>\n",
       "    <tr>\n",
       "      <th>29</th>\n",
       "      <td>29</td>\n",
       "      <td>1.460613</td>\n",
       "      <td>1.460618</td>\n",
       "    </tr>\n",
       "    <tr>\n",
       "      <th>30</th>\n",
       "      <td>30</td>\n",
       "      <td>1.460615</td>\n",
       "      <td>1.460618</td>\n",
       "    </tr>\n",
       "    <tr>\n",
       "      <th>31</th>\n",
       "      <td>31</td>\n",
       "      <td>1.460615</td>\n",
       "      <td>1.460617</td>\n",
       "    </tr>\n",
       "    <tr>\n",
       "      <th>32</th>\n",
       "      <td>32</td>\n",
       "      <td>1.460615</td>\n",
       "      <td>1.460617</td>\n",
       "    </tr>\n",
       "  </tbody>\n",
       "</table>\n",
       "</div>"
      ]
     },
     "execution_count": 46,
     "metadata": {},
     "output_type": "execute_result"
    }
   ],
   "execution_count": 46
  }
 ],
 "metadata": {
  "kernelspec": {
   "display_name": "Python 3",
   "language": "python",
   "name": "python3"
  },
  "language_info": {
   "codemirror_mode": {
    "name": "ipython",
    "version": 2
   },
   "file_extension": ".py",
   "mimetype": "text/x-python",
   "name": "python",
   "nbconvert_exporter": "python",
   "pygments_lexer": "ipython2",
   "version": "2.7.6"
  }
 },
 "nbformat": 4,
 "nbformat_minor": 5
}
